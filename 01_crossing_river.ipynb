{
 "cells": [
  {
   "cell_type": "markdown",
   "metadata": {},
   "source": [
    "# Problem Statement\n",
    "Amy, Jim, John, and Kelly are standing on the east bank of a river and wish to cross\n",
    "to the west side using a canoe. The canoe can hold at most two people at a time. Amy,\n",
    "being the most athletic, can row across the river in 1 minute. Jim, John, and Kelly would\n",
    "take 3, 6, and 9 minutes, respectively. If two people are in the canoe, the slower person\n",
    "dictates the crossing time. The objective is for all four people to be on the other side of\n",
    "the river in the shortest time possible. What is the shortest time for moving all four people to the other side of the river?"
   ]
  },
  {
   "cell_type": "code",
   "execution_count": 1,
   "metadata": {},
   "outputs": [],
   "source": [
    "from itertools import combinations"
   ]
  },
  {
   "cell_type": "code",
   "execution_count": 2,
   "metadata": {},
   "outputs": [
    {
     "name": "stdout",
     "output_type": "stream",
     "text": [
      "search_space: 108\n",
      "best_score: 19\n",
      "best_solution:\n",
      "\t ([1, 3, 6, 7], [], 0)\n",
      "\t ([6, 9], [1, 3], 3)\n",
      "\t ([6, 9, 1], [3], 4)\n",
      "\t ([1], [3, 6, 9], 13)\n",
      "\t ([1, 3], [6, 9], 16)\n",
      "\t ([], [6, 9, 1, 3], 19)\n"
     ]
    }
   ],
   "source": [
    "best_solution = []\n",
    "best_score = 100000\n",
    "counter = 0\n",
    "\n",
    "def solve_crossing_river(round_num=1, \n",
    "                         solution=[([1,3,6,7], [], 0)], \n",
    "                         score=0, \n",
    "                         left_river_people=[1,3,6,9], \n",
    "                         right_river_people=[]):\n",
    "    global best_score\n",
    "    global best_solution\n",
    "    global counter\n",
    "    \n",
    "    if left_river_people == []:\n",
    "        counter += 1\n",
    "        if best_score > score:\n",
    "            best_score = score\n",
    "            best_solution = solution[:]\n",
    "        return\n",
    "    \n",
    "    if round_num % 2 == 1:\n",
    "        for p, q in combinations(left_river_people, 2):\n",
    "            \n",
    "            new_left_river_people = left_river_people[:]\n",
    "            new_left_river_people.remove(p)\n",
    "            new_left_river_people.remove(q)\n",
    "            \n",
    "            new_right_river_people = right_river_people[:]\n",
    "            new_right_river_people.append(p)\n",
    "            new_right_river_people.append(q)\n",
    "            \n",
    "            new_score = score + max(p, q)\n",
    "            \n",
    "            solution.append((new_left_river_people, new_right_river_people, new_score))\n",
    "            solve_crossing_river(round_num+1, solution, new_score, new_left_river_people, new_right_river_people)\n",
    "            \n",
    "            solution.pop()\n",
    "    else:\n",
    "        for p in right_river_people:\n",
    "            new_left_river_people = left_river_people[:]\n",
    "            new_left_river_people.append(p)\n",
    "            \n",
    "            new_right_river_people = right_river_people[:]\n",
    "            new_right_river_people.remove(p)\n",
    "            \n",
    "            new_score = score + p\n",
    "            \n",
    "            solution.append((new_left_river_people, new_right_river_people, new_score))\n",
    "            solve_crossing_river(round_num+1, solution, new_score, new_left_river_people, new_right_river_people)\n",
    "            \n",
    "            solution.pop()\n",
    "            \n",
    "solve_crossing_river()\n",
    "\n",
    "print('search_space:', counter)\n",
    "print('best_score:', best_score)\n",
    "print('best_solution:')\n",
    "for s in best_solution:\n",
    "    print('\\t', s)\n"
   ]
  },
  {
   "cell_type": "code",
   "execution_count": null,
   "metadata": {},
   "outputs": [],
   "source": []
  },
  {
   "cell_type": "code",
   "execution_count": null,
   "metadata": {},
   "outputs": [],
   "source": []
  },
  {
   "cell_type": "code",
   "execution_count": null,
   "metadata": {},
   "outputs": [],
   "source": []
  },
  {
   "cell_type": "code",
   "execution_count": null,
   "metadata": {},
   "outputs": [],
   "source": []
  }
 ],
 "metadata": {
  "kernelspec": {
   "display_name": "Python 3",
   "language": "python",
   "name": "python3"
  },
  "language_info": {
   "codemirror_mode": {
    "name": "ipython",
    "version": 3
   },
   "file_extension": ".py",
   "mimetype": "text/x-python",
   "name": "python",
   "nbconvert_exporter": "python",
   "pygments_lexer": "ipython3",
   "version": "3.6.4"
  }
 },
 "nbformat": 4,
 "nbformat_minor": 2
}
